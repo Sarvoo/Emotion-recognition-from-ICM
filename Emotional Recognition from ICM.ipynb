{
  "cells": [
    {
      "cell_type": "code",
      "execution_count": null,
      "metadata": {
        "colab": {
          "base_uri": "https://localhost:8080/"
        },
        "id": "tOb4BfP8_MdE",
        "outputId": "c8c084cb-a5f8-42b9-9cad-147dd8d199b8"
      },
      "outputs": [
        {
          "output_type": "stream",
          "name": "stdout",
          "text": [
            "Reading package lists... Done\n",
            "Building dependency tree       \n",
            "Reading state information... Done\n",
            "libasound2-dev is already the newest version (1.1.3-5ubuntu0.6).\n",
            "ffmpeg is already the newest version (7:3.4.8-0ubuntu0.2).\n",
            "The following packages were automatically installed and are no longer required:\n",
            "  cuda-command-line-tools-10-0 cuda-command-line-tools-10-1\n",
            "  cuda-command-line-tools-11-0 cuda-compiler-10-0 cuda-compiler-10-1\n",
            "  cuda-compiler-11-0 cuda-cuobjdump-10-0 cuda-cuobjdump-10-1\n",
            "  cuda-cuobjdump-11-0 cuda-cupti-10-0 cuda-cupti-10-1 cuda-cupti-11-0\n",
            "  cuda-cupti-dev-11-0 cuda-documentation-10-0 cuda-documentation-10-1\n",
            "  cuda-documentation-11-0 cuda-documentation-11-1 cuda-gdb-10-0 cuda-gdb-10-1\n",
            "  cuda-gdb-11-0 cuda-gpu-library-advisor-10-0 cuda-gpu-library-advisor-10-1\n",
            "  cuda-libraries-10-0 cuda-libraries-10-1 cuda-libraries-11-0\n",
            "  cuda-memcheck-10-0 cuda-memcheck-10-1 cuda-memcheck-11-0 cuda-nsight-10-0\n",
            "  cuda-nsight-10-1 cuda-nsight-11-0 cuda-nsight-11-1 cuda-nsight-compute-10-0\n",
            "  cuda-nsight-compute-10-1 cuda-nsight-compute-11-0 cuda-nsight-compute-11-1\n",
            "  cuda-nsight-systems-10-1 cuda-nsight-systems-11-0 cuda-nsight-systems-11-1\n",
            "  cuda-nvcc-10-0 cuda-nvcc-10-1 cuda-nvcc-11-0 cuda-nvdisasm-10-0\n",
            "  cuda-nvdisasm-10-1 cuda-nvdisasm-11-0 cuda-nvml-dev-10-0 cuda-nvml-dev-10-1\n",
            "  cuda-nvml-dev-11-0 cuda-nvprof-10-0 cuda-nvprof-10-1 cuda-nvprof-11-0\n",
            "  cuda-nvprune-10-0 cuda-nvprune-10-1 cuda-nvprune-11-0 cuda-nvtx-10-0\n",
            "  cuda-nvtx-10-1 cuda-nvtx-11-0 cuda-nvvp-10-0 cuda-nvvp-10-1 cuda-nvvp-11-0\n",
            "  cuda-nvvp-11-1 cuda-samples-10-0 cuda-samples-10-1 cuda-samples-11-0\n",
            "  cuda-samples-11-1 cuda-sanitizer-11-0 cuda-sanitizer-api-10-1\n",
            "  cuda-toolkit-10-0 cuda-toolkit-10-1 cuda-toolkit-11-0 cuda-toolkit-11-1\n",
            "  cuda-tools-10-0 cuda-tools-10-1 cuda-tools-11-0 cuda-tools-11-1\n",
            "  cuda-visual-tools-10-0 cuda-visual-tools-10-1 cuda-visual-tools-11-0\n",
            "  cuda-visual-tools-11-1 default-jre dkms freeglut3 freeglut3-dev\n",
            "  keyboard-configuration libargon2-0 libcap2 libcryptsetup12\n",
            "  libdevmapper1.02.1 libfontenc1 libidn11 libip4tc0 libjansson4\n",
            "  libnvidia-cfg1-510 libnvidia-common-460 libnvidia-common-510\n",
            "  libnvidia-extra-510 libnvidia-fbc1-510 libnvidia-gl-510 libpam-systemd\n",
            "  libpolkit-agent-1-0 libpolkit-backend-1-0 libpolkit-gobject-1-0 libxfont2\n",
            "  libxi-dev libxkbfile1 libxmu-dev libxmu-headers libxnvctrl0 libxtst6\n",
            "  nsight-compute-2020.2.1 nsight-compute-2022.1.0 nsight-systems-2020.3.2\n",
            "  nsight-systems-2020.3.4 nsight-systems-2021.5.2 nvidia-dkms-510\n",
            "  nvidia-kernel-common-510 nvidia-kernel-source-510 nvidia-modprobe\n",
            "  nvidia-settings openjdk-11-jre policykit-1 policykit-1-gnome python3-xkit\n",
            "  screen-resolution-extra systemd systemd-sysv udev x11-xkb-utils\n",
            "  xserver-common xserver-xorg-core-hwe-18.04 xserver-xorg-video-nvidia-510\n",
            "Use 'apt autoremove' to remove them.\n",
            "Suggested packages:\n",
            "  portaudio19-doc\n",
            "The following NEW packages will be installed:\n",
            "  libportaudio2 libportaudiocpp0 portaudio19-dev\n",
            "0 upgraded, 3 newly installed, 0 to remove and 39 not upgraded.\n",
            "Need to get 184 kB of archives.\n",
            "After this operation, 891 kB of additional disk space will be used.\n",
            "Get:1 http://archive.ubuntu.com/ubuntu bionic/universe amd64 libportaudio2 amd64 19.6.0-1 [64.6 kB]\n",
            "Get:2 http://archive.ubuntu.com/ubuntu bionic/universe amd64 libportaudiocpp0 amd64 19.6.0-1 [15.1 kB]\n",
            "Get:3 http://archive.ubuntu.com/ubuntu bionic/universe amd64 portaudio19-dev amd64 19.6.0-1 [104 kB]\n",
            "Fetched 184 kB in 2s (104 kB/s)\n",
            "Selecting previously unselected package libportaudio2:amd64.\n",
            "(Reading database ... 155113 files and directories currently installed.)\n",
            "Preparing to unpack .../libportaudio2_19.6.0-1_amd64.deb ...\n",
            "Unpacking libportaudio2:amd64 (19.6.0-1) ...\n",
            "Selecting previously unselected package libportaudiocpp0:amd64.\n",
            "Preparing to unpack .../libportaudiocpp0_19.6.0-1_amd64.deb ...\n",
            "Unpacking libportaudiocpp0:amd64 (19.6.0-1) ...\n",
            "Selecting previously unselected package portaudio19-dev:amd64.\n",
            "Preparing to unpack .../portaudio19-dev_19.6.0-1_amd64.deb ...\n",
            "Unpacking portaudio19-dev:amd64 (19.6.0-1) ...\n",
            "Setting up libportaudio2:amd64 (19.6.0-1) ...\n",
            "Setting up libportaudiocpp0:amd64 (19.6.0-1) ...\n",
            "Setting up portaudio19-dev:amd64 (19.6.0-1) ...\n",
            "Processing triggers for libc-bin (2.27-3ubuntu1.3) ...\n",
            "/sbin/ldconfig.real: /usr/local/lib/python3.7/dist-packages/ideep4py/lib/libmkldnn.so.0 is not a symbolic link\n",
            "\n"
          ]
        }
      ],
      "source": [
        "!apt install libasound2-dev portaudio19-dev libportaudio2 libportaudiocpp0 ffmpeg"
      ]
    },
    {
      "cell_type": "code",
      "execution_count": null,
      "metadata": {
        "colab": {
          "base_uri": "https://localhost:8080/"
        },
        "id": "IvGJuyREmQhP",
        "outputId": "6d1c668d-2b92-4a13-d736-ca8d77a8fece"
      },
      "outputs": [
        {
          "output_type": "stream",
          "name": "stdout",
          "text": [
            "Requirement already satisfied: tensorflow in /usr/local/lib/python3.7/dist-packages (2.8.0)\n",
            "Requirement already satisfied: h5py>=2.9.0 in /usr/local/lib/python3.7/dist-packages (from tensorflow) (3.1.0)\n",
            "Requirement already satisfied: keras<2.9,>=2.8.0rc0 in /usr/local/lib/python3.7/dist-packages (from tensorflow) (2.8.0)\n",
            "Requirement already satisfied: flatbuffers>=1.12 in /usr/local/lib/python3.7/dist-packages (from tensorflow) (2.0)\n",
            "Requirement already satisfied: wrapt>=1.11.0 in /usr/local/lib/python3.7/dist-packages (from tensorflow) (1.13.3)\n",
            "Requirement already satisfied: termcolor>=1.1.0 in /usr/local/lib/python3.7/dist-packages (from tensorflow) (1.1.0)\n",
            "Requirement already satisfied: keras-preprocessing>=1.1.1 in /usr/local/lib/python3.7/dist-packages (from tensorflow) (1.1.2)\n",
            "Requirement already satisfied: opt-einsum>=2.3.2 in /usr/local/lib/python3.7/dist-packages (from tensorflow) (3.3.0)\n",
            "Requirement already satisfied: typing-extensions>=3.6.6 in /usr/local/lib/python3.7/dist-packages (from tensorflow) (3.10.0.2)\n",
            "Requirement already satisfied: six>=1.12.0 in /usr/local/lib/python3.7/dist-packages (from tensorflow) (1.15.0)\n",
            "Requirement already satisfied: tensorboard<2.9,>=2.8 in /usr/local/lib/python3.7/dist-packages (from tensorflow) (2.8.0)\n",
            "Requirement already satisfied: gast>=0.2.1 in /usr/local/lib/python3.7/dist-packages (from tensorflow) (0.5.3)\n",
            "Requirement already satisfied: numpy>=1.20 in /usr/local/lib/python3.7/dist-packages (from tensorflow) (1.21.5)\n",
            "Requirement already satisfied: protobuf>=3.9.2 in /usr/local/lib/python3.7/dist-packages (from tensorflow) (3.17.3)\n",
            "Requirement already satisfied: tensorflow-io-gcs-filesystem>=0.23.1 in /usr/local/lib/python3.7/dist-packages (from tensorflow) (0.24.0)\n",
            "Collecting tf-estimator-nightly==2.8.0.dev2021122109\n",
            "  Downloading tf_estimator_nightly-2.8.0.dev2021122109-py2.py3-none-any.whl (462 kB)\n",
            "\u001b[K     |████████████████████████████████| 462 kB 4.2 MB/s \n",
            "\u001b[?25hRequirement already satisfied: absl-py>=0.4.0 in /usr/local/lib/python3.7/dist-packages (from tensorflow) (1.0.0)\n",
            "Requirement already satisfied: setuptools in /usr/local/lib/python3.7/dist-packages (from tensorflow) (57.4.0)\n",
            "Requirement already satisfied: grpcio<2.0,>=1.24.3 in /usr/local/lib/python3.7/dist-packages (from tensorflow) (1.43.0)\n",
            "Requirement already satisfied: libclang>=9.0.1 in /usr/local/lib/python3.7/dist-packages (from tensorflow) (13.0.0)\n",
            "Requirement already satisfied: google-pasta>=0.1.1 in /usr/local/lib/python3.7/dist-packages (from tensorflow) (0.2.0)\n",
            "Requirement already satisfied: astunparse>=1.6.0 in /usr/local/lib/python3.7/dist-packages (from tensorflow) (1.6.3)\n",
            "Requirement already satisfied: wheel<1.0,>=0.23.0 in /usr/local/lib/python3.7/dist-packages (from astunparse>=1.6.0->tensorflow) (0.37.1)\n",
            "Requirement already satisfied: cached-property in /usr/local/lib/python3.7/dist-packages (from h5py>=2.9.0->tensorflow) (1.5.2)\n",
            "Requirement already satisfied: markdown>=2.6.8 in /usr/local/lib/python3.7/dist-packages (from tensorboard<2.9,>=2.8->tensorflow) (3.3.6)\n",
            "Requirement already satisfied: tensorboard-data-server<0.7.0,>=0.6.0 in /usr/local/lib/python3.7/dist-packages (from tensorboard<2.9,>=2.8->tensorflow) (0.6.1)\n",
            "Requirement already satisfied: google-auth<3,>=1.6.3 in /usr/local/lib/python3.7/dist-packages (from tensorboard<2.9,>=2.8->tensorflow) (1.35.0)\n",
            "Requirement already satisfied: tensorboard-plugin-wit>=1.6.0 in /usr/local/lib/python3.7/dist-packages (from tensorboard<2.9,>=2.8->tensorflow) (1.8.1)\n",
            "Requirement already satisfied: requests<3,>=2.21.0 in /usr/local/lib/python3.7/dist-packages (from tensorboard<2.9,>=2.8->tensorflow) (2.23.0)\n",
            "Requirement already satisfied: werkzeug>=0.11.15 in /usr/local/lib/python3.7/dist-packages (from tensorboard<2.9,>=2.8->tensorflow) (1.0.1)\n",
            "Requirement already satisfied: google-auth-oauthlib<0.5,>=0.4.1 in /usr/local/lib/python3.7/dist-packages (from tensorboard<2.9,>=2.8->tensorflow) (0.4.6)\n",
            "Requirement already satisfied: rsa<5,>=3.1.4 in /usr/local/lib/python3.7/dist-packages (from google-auth<3,>=1.6.3->tensorboard<2.9,>=2.8->tensorflow) (4.8)\n",
            "Requirement already satisfied: pyasn1-modules>=0.2.1 in /usr/local/lib/python3.7/dist-packages (from google-auth<3,>=1.6.3->tensorboard<2.9,>=2.8->tensorflow) (0.2.8)\n",
            "Requirement already satisfied: cachetools<5.0,>=2.0.0 in /usr/local/lib/python3.7/dist-packages (from google-auth<3,>=1.6.3->tensorboard<2.9,>=2.8->tensorflow) (4.2.4)\n",
            "Requirement already satisfied: requests-oauthlib>=0.7.0 in /usr/local/lib/python3.7/dist-packages (from google-auth-oauthlib<0.5,>=0.4.1->tensorboard<2.9,>=2.8->tensorflow) (1.3.1)\n",
            "Requirement already satisfied: importlib-metadata>=4.4 in /usr/local/lib/python3.7/dist-packages (from markdown>=2.6.8->tensorboard<2.9,>=2.8->tensorflow) (4.11.0)\n",
            "Requirement already satisfied: zipp>=0.5 in /usr/local/lib/python3.7/dist-packages (from importlib-metadata>=4.4->markdown>=2.6.8->tensorboard<2.9,>=2.8->tensorflow) (3.7.0)\n",
            "Requirement already satisfied: pyasn1<0.5.0,>=0.4.6 in /usr/local/lib/python3.7/dist-packages (from pyasn1-modules>=0.2.1->google-auth<3,>=1.6.3->tensorboard<2.9,>=2.8->tensorflow) (0.4.8)\n",
            "Requirement already satisfied: idna<3,>=2.5 in /usr/local/lib/python3.7/dist-packages (from requests<3,>=2.21.0->tensorboard<2.9,>=2.8->tensorflow) (2.10)\n",
            "Requirement already satisfied: chardet<4,>=3.0.2 in /usr/local/lib/python3.7/dist-packages (from requests<3,>=2.21.0->tensorboard<2.9,>=2.8->tensorflow) (3.0.4)\n",
            "Requirement already satisfied: urllib3!=1.25.0,!=1.25.1,<1.26,>=1.21.1 in /usr/local/lib/python3.7/dist-packages (from requests<3,>=2.21.0->tensorboard<2.9,>=2.8->tensorflow) (1.24.3)\n",
            "Requirement already satisfied: certifi>=2017.4.17 in /usr/local/lib/python3.7/dist-packages (from requests<3,>=2.21.0->tensorboard<2.9,>=2.8->tensorflow) (2021.10.8)\n",
            "Requirement already satisfied: oauthlib>=3.0.0 in /usr/local/lib/python3.7/dist-packages (from requests-oauthlib>=0.7.0->google-auth-oauthlib<0.5,>=0.4.1->tensorboard<2.9,>=2.8->tensorflow) (3.2.0)\n",
            "Installing collected packages: tf-estimator-nightly\n",
            "Successfully installed tf-estimator-nightly-2.8.0.dev2021122109\n"
          ]
        }
      ],
      "source": [
        "!pip install tensorflow"
      ]
    },
    {
      "cell_type": "code",
      "execution_count": null,
      "metadata": {
        "colab": {
          "base_uri": "https://localhost:8080/"
        },
        "id": "JHei7k2FU6hg",
        "outputId": "6440a294-25e1-40f1-8322-24c26095dc80"
      },
      "outputs": [
        {
          "output_type": "stream",
          "name": "stdout",
          "text": [
            "Collecting snntorch\n",
            "  Downloading snntorch-0.5.0-py2.py3-none-any.whl (89 kB)\n",
            "\u001b[?25l\r\u001b[K     |███▋                            | 10 kB 16.4 MB/s eta 0:00:01\r\u001b[K     |███████▎                        | 20 kB 8.9 MB/s eta 0:00:01\r\u001b[K     |███████████                     | 30 kB 7.7 MB/s eta 0:00:01\r\u001b[K     |██████████████▋                 | 40 kB 7.1 MB/s eta 0:00:01\r\u001b[K     |██████████████████▎             | 51 kB 4.1 MB/s eta 0:00:01\r\u001b[K     |██████████████████████          | 61 kB 4.3 MB/s eta 0:00:01\r\u001b[K     |█████████████████████████▋      | 71 kB 4.4 MB/s eta 0:00:01\r\u001b[K     |█████████████████████████████▎  | 81 kB 5.0 MB/s eta 0:00:01\r\u001b[K     |████████████████████████████████| 89 kB 3.4 MB/s \n",
            "\u001b[?25hRequirement already satisfied: numpy>=1.17 in /usr/local/lib/python3.7/dist-packages (from snntorch) (1.21.5)\n",
            "Requirement already satisfied: torch>=1.1.0 in /usr/local/lib/python3.7/dist-packages (from snntorch) (1.10.0+cu111)\n",
            "Requirement already satisfied: pandas in /usr/local/lib/python3.7/dist-packages (from snntorch) (1.3.5)\n",
            "Requirement already satisfied: matplotlib in /usr/local/lib/python3.7/dist-packages (from snntorch) (3.2.2)\n",
            "Requirement already satisfied: typing-extensions in /usr/local/lib/python3.7/dist-packages (from torch>=1.1.0->snntorch) (3.10.0.2)\n",
            "Requirement already satisfied: kiwisolver>=1.0.1 in /usr/local/lib/python3.7/dist-packages (from matplotlib->snntorch) (1.3.2)\n",
            "Requirement already satisfied: cycler>=0.10 in /usr/local/lib/python3.7/dist-packages (from matplotlib->snntorch) (0.11.0)\n",
            "Requirement already satisfied: python-dateutil>=2.1 in /usr/local/lib/python3.7/dist-packages (from matplotlib->snntorch) (2.8.2)\n",
            "Requirement already satisfied: pyparsing!=2.0.4,!=2.1.2,!=2.1.6,>=2.0.1 in /usr/local/lib/python3.7/dist-packages (from matplotlib->snntorch) (3.0.7)\n",
            "Requirement already satisfied: six>=1.5 in /usr/local/lib/python3.7/dist-packages (from python-dateutil>=2.1->matplotlib->snntorch) (1.15.0)\n",
            "Requirement already satisfied: pytz>=2017.3 in /usr/local/lib/python3.7/dist-packages (from pandas->snntorch) (2018.9)\n",
            "Installing collected packages: snntorch\n",
            "Successfully installed snntorch-0.5.0\n"
          ]
        }
      ],
      "source": [
        "!pip install snntorch"
      ]
    },
    {
      "cell_type": "code",
      "execution_count": null,
      "metadata": {
        "colab": {
          "base_uri": "https://localhost:8080/"
        },
        "id": "2ENIpIYGofTy",
        "outputId": "4502cfd9-3846-459e-f434-bd04880403aa"
      },
      "outputs": [
        {
          "output_type": "stream",
          "name": "stdout",
          "text": [
            "Mounted at /content/drive\n"
          ]
        }
      ],
      "source": [
        "from google.colab import drive\n",
        "drive.mount('/content/drive')"
      ]
    },
    {
      "cell_type": "code",
      "execution_count": null,
      "metadata": {
        "id": "XcHh4S3w_R99"
      },
      "outputs": [],
      "source": [
        "import librosa\n",
        "import soundfile\n",
        "import os, glob, pickle\n",
        "import numpy as np\n",
        "import pandas as pd\n",
        "import seaborn as sns\n",
        "import tensorflow as tf\n",
        "from sklearn.model_selection import train_test_split\n",
        "from sklearn.neural_network import MLPClassifier\n",
        "from sklearn.metrics import accuracy_score"
      ]
    },
    {
      "cell_type": "code",
      "execution_count": null,
      "metadata": {
        "id": "75nWkJmE_Zis"
      },
      "outputs": [],
      "source": [
        "#DataFlair - Extract features (mfcc, chroma, mel) from a sound file\n",
        "def extract_feature(file_name, mfcc, chroma, mel, rms, poly_f, tonnetz, tempo, spect_cent, spect_flux, spect_roll, zcr,spect_flat):\n",
        "    with soundfile.SoundFile(file_name) as sound_file:\n",
        "        X = sound_file.read(dtype=\"float32\")\n",
        "        sample_rate=sound_file.samplerate\n",
        "        if chroma:\n",
        "            stft=np.abs(librosa.stft(X))\n",
        "        result=np.array([])\n",
        "        if mfcc:\n",
        "            mfccs=np.mean(librosa.feature.mfcc(y=X, sr=sample_rate, n_mfcc=40).T, axis=0)\n",
        "            result=np.hstack((result, mfccs))\n",
        "        if chroma:\n",
        "            chroma=np.mean(librosa.feature.chroma_stft(S=stft, sr=sample_rate).T,axis=0)\n",
        "            result=np.hstack((result, chroma))\n",
        "        if mel:\n",
        "            mel=np.mean(librosa.feature.melspectrogram(X, sr=sample_rate).T,axis=0)\n",
        "            result=np.hstack((result, mel))\n",
        "        if rms:\n",
        "            rms = np.mean(librosa.feature.rms(y = X).T,axis = 0)\n",
        "            result=np.hstack((result, rms))\n",
        "        if poly_f:\n",
        "            poly_f = np.mean(librosa.feature.poly_features(y = X, sr = sample_rate, center=True, pad_mode=\"reflect\").T,axis = 0)\n",
        "            result=np.hstack((result, poly_f))\n",
        "        if tonnetz:\n",
        "            tonnetz = np.mean(librosa.feature.tonnetz(y=X, sr=sample_rate, chroma=None).T, axis=0)\n",
        "            result = np.hstack((result,tonnetz))\n",
        "        if tempo:\n",
        "            tempo = np.mean(librosa.feature.tempogram(y=X, sr=sample_rate, center=True).T, axis = 0)\n",
        "            result = np.hstack((result, tempo))\n",
        "        if spect_cent:\n",
        "            spect_cent = np.mean(librosa.feature.spectral_centroid(y=X, sr=sample_rate, center=True, pad_mode='reflect').T, axis = 0)\n",
        "            result = np.hstack((result, spect_cent))\n",
        "        if spect_flux:\n",
        "            spect_flux = np.mean(librosa.onset.onset_strength(y=X, sr=sample_rate, center=True).T, axis = 0)\n",
        "            result = np.hstack((result, spect_flux))\n",
        "        if spect_roll:\n",
        "            spect_roll = np.mean(librosa.feature.spectral_rolloff(y=X, sr=sample_rate, center=True, pad_mode='reflect', roll_percent=0.85).T, axis = 0)\n",
        "            result = np.hstack((result,spect_roll))\n",
        "        if zcr:\n",
        "            zcr = np.mean(librosa.feature.zero_crossing_rate(X,center=True).T, axis = 0)\n",
        "            result = np.hstack((result, zcr))\n",
        "        if spect_flat:\n",
        "            spect_flact = np.mean(librosa.feature.spectral_flatness(y=X, center=True, pad_mode='reflect').T, axis = 0)\n",
        "            result = np.hstack((result, spect_flat))\n",
        "        # print(result)\n",
        "        return result"
      ]
    },
    {
      "cell_type": "code",
      "execution_count": null,
      "metadata": {
        "id": "IPqjw7BzALXU"
      },
      "outputs": [],
      "source": [
        "#DataFlair - Emotions in the RAVDESS dataset #convert them into rasas\n",
        "emotions={\n",
        "  '01':'veer',\n",
        "  '02':'shanta',\n",
        "  '03':'hasya',\n",
        "  '04':'karuna',\n",
        "  '05':'raudra',\n",
        "  '06':'bhayanak',\n",
        "  '07':'vibhatsa',\n",
        "  '08':'adbhuta',\n",
        "  '09':'shringara'\n",
        "}\n",
        "\n",
        "#DataFlair - Emotions to observe\n",
        "observed_emotions=['shanta', 'hasya', 'bhayanak', 'vibhatsa','veer','karuna','raudra','adbhuta','shringara']"
      ]
    },
    {
      "cell_type": "code",
      "execution_count": null,
      "metadata": {
        "id": "ugmGBfLYASF3"
      },
      "outputs": [],
      "source": [
        "\n",
        "#DataFlair - Load the data and extract features for each sound file\n",
        "def load_data(test_size=0.2):\n",
        "    z,x,y=[],[],[]\n",
        "    \n",
        "    for file in glob.glob(\"/content/drive/MyDrive/Complete_new_dataset/*.wav\"):\n",
        "        file_name=os.path.basename(file)\n",
        "        f_n = file_name\n",
        "        if (f_n.split(\"-\")[3] == \"00.wav\"):\n",
        "          print(file_name)\n",
        "        emotion=emotions[file_name.split(\"-\")[3]]\n",
        "        emotion=file_name.split(\"-\")[3]\n",
        "        # if emotion not in observed_emotions:\n",
        "        #     continue\n",
        "        feature=extract_feature(file, mfcc=True, chroma=False, mel=False, rms = False,poly_f = False, tonnetz = False, tempo = False, spect_cent = False, spect_flux = False, spect_roll = False, zcr = False ,spect_flat = False)\n",
        "        # z.append(file_name)\n",
        "        x.append(feature)\n",
        "        y.append(emotion)\n",
        "    y = [int(i) for i in y]\n",
        "    # dataframe = pd.DataFrame(z,np.array(x),y)\n",
        "    # print(dataframe)\n",
        "    return train_test_split(np.array(x), y, test_size=test_size, random_state=1)\n",
        "    # return np.array(x),y"
      ]
    },
    {
      "cell_type": "code",
      "execution_count": null,
      "metadata": {
        "id": "kD-qcxypCSIN"
      },
      "outputs": [],
      "source": [
        "#DataFlair - Split the dataset\n",
        "x_train,x_test,y_train,y_test=load_data(test_size=0.20)"
      ]
    },
    {
      "cell_type": "code",
      "execution_count": null,
      "metadata": {
        "id": "dyJxAq0xOdwi",
        "colab": {
          "base_uri": "https://localhost:8080/"
        },
        "outputId": "14cb8c6d-e9f5-493e-9e64-8f5199ef0c42"
      },
      "outputs": [
        {
          "output_type": "stream",
          "name": "stdout",
          "text": [
            "(675, 169)\n"
          ]
        }
      ],
      "source": [
        "#DataFlair - Get the shape of the training and testing datasets\n",
        "print((x_train.shape[0], x_test.shape[0]))"
      ]
    },
    {
      "cell_type": "code",
      "execution_count": null,
      "metadata": {
        "id": "SWo9kbbaptAo"
      },
      "outputs": [],
      "source": [
        "# x_train = np.array((x_train-np.min(x_train))/(np.max(x_train)-np.min(x_train)))\n",
        "# x_test = np.array((x_test-np.min(x_test))/(np.max(x_test)-np.min(x_test)))\n",
        "# x_train = x_train/np.std(x_train)\n",
        "# x_test = x_test/np.std(x_test)\n",
        "# y_train = np.array(y_train)\n",
        "# y_test = np.array(y_test)"
      ]
    },
    {
      "cell_type": "code",
      "execution_count": null,
      "metadata": {
        "id": "bGglr6NjOmIL",
        "colab": {
          "base_uri": "https://localhost:8080/"
        },
        "outputId": "9adb2486-0767-4f83-a6d2-90355b5b6f89"
      },
      "outputs": [
        {
          "output_type": "stream",
          "name": "stdout",
          "text": [
            "Features extracted: 40\n"
          ]
        }
      ],
      "source": [
        "#DataFlair - Get the number of features extracted\n",
        "print(f'Features extracted: {x_train.shape[1]}')"
      ]
    },
    {
      "cell_type": "code",
      "execution_count": null,
      "metadata": {
        "colab": {
          "base_uri": "https://localhost:8080/"
        },
        "id": "bWw0xlSCq_Es",
        "outputId": "e81cc37e-2c52-4950-cd39-0d5e2595a322"
      },
      "outputs": [
        {
          "output_type": "stream",
          "name": "stdout",
          "text": [
            "27000\n"
          ]
        }
      ],
      "source": [
        "print(x_train.size)"
      ]
    },
    {
      "cell_type": "code",
      "execution_count": null,
      "metadata": {
        "colab": {
          "base_uri": "https://localhost:8080/"
        },
        "id": "k8pe5rElrHRH",
        "outputId": "acc799fd-f3ef-470d-dc5b-88bc289fe517"
      },
      "outputs": [
        {
          "output_type": "execute_result",
          "data": {
            "text/plain": [
              "(675, 40)"
            ]
          },
          "metadata": {},
          "execution_count": 15
        }
      ],
      "source": [
        "x_train.shape"
      ]
    },
    {
      "cell_type": "code",
      "execution_count": null,
      "metadata": {
        "colab": {
          "base_uri": "https://localhost:8080/"
        },
        "id": "8IA3mwxWrO97",
        "outputId": "01678fe8-6dbf-47e8-b9e8-454a92777709"
      },
      "outputs": [
        {
          "output_type": "execute_result",
          "data": {
            "text/plain": [
              "675"
            ]
          },
          "metadata": {},
          "execution_count": 16
        }
      ],
      "source": [
        "len(y_train)"
      ]
    },
    {
      "cell_type": "code",
      "execution_count": null,
      "metadata": {
        "id": "OfNOA7xPOrsk"
      },
      "outputs": [],
      "source": [
        "#DataFlair - Initialize the Multi Layer Perceptron Classifier\n",
        "model=MLPClassifier(alpha=0.01, batch_size=256, epsilon=1e-08, hidden_layer_sizes=(1800,), learning_rate='adaptive', max_iter=500)"
      ]
    },
    {
      "cell_type": "code",
      "execution_count": null,
      "metadata": {
        "colab": {
          "base_uri": "https://localhost:8080/"
        },
        "id": "HGRieyo2OunU",
        "outputId": "5ea13281-d318-44c7-86f8-c21b0aca8776"
      },
      "outputs": [
        {
          "output_type": "execute_result",
          "data": {
            "text/plain": [
              "MLPClassifier(alpha=0.01, batch_size=256, hidden_layer_sizes=(1800,),\n",
              "              learning_rate='adaptive', max_iter=500)"
            ]
          },
          "metadata": {},
          "execution_count": 18
        }
      ],
      "source": [
        "#DataFlair - Train the model\n",
        "model.fit(x_train,y_train)"
      ]
    },
    {
      "cell_type": "code",
      "execution_count": null,
      "metadata": {
        "id": "cyjm1xKjO21E"
      },
      "outputs": [],
      "source": [
        "#DataFlair - Predict for the test set\n",
        "y_pred=model.predict(x_test)"
      ]
    },
    {
      "cell_type": "code",
      "execution_count": null,
      "metadata": {
        "colab": {
          "base_uri": "https://localhost:8080/"
        },
        "id": "mrMCRYlEO7ij",
        "outputId": "975469bd-0bb7-4e8d-fda6-eaf0b6cf930b"
      },
      "outputs": [
        {
          "output_type": "stream",
          "name": "stdout",
          "text": [
            "Accuracy: 93.49%\n"
          ]
        }
      ],
      "source": [
        "#DataFlair - Calculate the accuracy of our model\n",
        "accuracy=accuracy_score(y_true=y_test, y_pred=y_pred)\n",
        "\n",
        "#DataFlair - Print the accuracy\n",
        "print(\"Accuracy: {:.2f}%\".format(accuracy*100))"
      ]
    },
    {
      "cell_type": "code",
      "execution_count": null,
      "metadata": {
        "id": "HPwpnQ8CZzLg"
      },
      "outputs": [],
      "source": [
        "from sklearn.metrics import confusion_matrix\n",
        "from sklearn.metrics import classification_report\n",
        "from sklearn.model_selection import cross_val_score"
      ]
    },
    {
      "cell_type": "code",
      "execution_count": null,
      "metadata": {
        "colab": {
          "base_uri": "https://localhost:8080/",
          "height": 438
        },
        "id": "ycsUir3uiuOo",
        "outputId": "18bee2b2-8c46-4dc2-de9b-9fccedf1b00a"
      },
      "outputs": [
        {
          "output_type": "stream",
          "name": "stdout",
          "text": [
            "[[ 7  1  0  0  1  0  0  1  0]\n",
            " [ 0 44  0  0  0  0  1  0  0]\n",
            " [ 0  0  3  0  0  1  0  0  0]\n",
            " [ 0  0  0 12  0  1  0  0  0]\n",
            " [ 0  0  0  0  3  0  0  0  0]\n",
            " [ 0  1  0  1  0 32  0  0  0]\n",
            " [ 0  0  0  0  0  2 24  0  0]\n",
            " [ 0  1  0  0  0  0  1 29  0]\n",
            " [ 0  0  0  0  0  0  0  0  3]]\n"
          ]
        },
        {
          "output_type": "execute_result",
          "data": {
            "text/plain": [
              "<matplotlib.axes._subplots.AxesSubplot at 0x7f7b48491910>"
            ]
          },
          "metadata": {},
          "execution_count": 12
        },
        {
          "output_type": "display_data",
          "data": {
            "image/png": "[encoded data removed]",
            "text/plain": [
              "<Figure size 432x288 with 2 Axes>"
            ]
          },
          "metadata": {
            "needs_background": "light"
          }
        }
      ],
      "source": [
        "cm = confusion_matrix(y_test,y_pred)\n",
        "print(cm)\n",
        "sns.heatmap(cm,annot=True)"
      ]
    },
    {
      "cell_type": "code",
      "execution_count": null,
      "metadata": {
        "colab": {
          "base_uri": "https://localhost:8080/"
        },
        "id": "zo8eCcp1jDdW",
        "outputId": "6c9c07ce-c105-45b8-f7e9-6b4199c903e1"
      },
      "outputs": [
        {
          "output_type": "stream",
          "name": "stdout",
          "text": [
            "              precision    recall  f1-score   support\n",
            "\n",
            "       angry     0.0000    0.0000    0.0000        10\n",
            "        calm     0.2663    1.0000    0.4206        45\n",
            "     disgust     0.0000    0.0000    0.0000         4\n",
            "      energy     0.0000    0.0000    0.0000        13\n",
            "     fearful     0.0000    0.0000    0.0000         3\n",
            "       happy     0.0000    0.0000    0.0000        34\n",
            "        love     0.0000    0.0000    0.0000        26\n",
            "         sad     0.0000    0.0000    0.0000        31\n",
            "   surprised     0.0000    0.0000    0.0000         3\n",
            "\n",
            "    accuracy                         0.2663       169\n",
            "   macro avg     0.0296    0.1111    0.0467       169\n",
            "weighted avg     0.0709    0.2663    0.1120       169\n",
            "\n"
          ]
        },
        {
          "output_type": "stream",
          "name": "stderr",
          "text": [
            "/usr/local/lib/python3.7/dist-packages/sklearn/metrics/_classification.py:1318: UndefinedMetricWarning: Precision and F-score are ill-defined and being set to 0.0 in labels with no predicted samples. Use `zero_division` parameter to control this behavior.\n",
            "  _warn_prf(average, modifier, msg_start, len(result))\n",
            "/usr/local/lib/python3.7/dist-packages/sklearn/metrics/_classification.py:1318: UndefinedMetricWarning: Precision and F-score are ill-defined and being set to 0.0 in labels with no predicted samples. Use `zero_division` parameter to control this behavior.\n",
            "  _warn_prf(average, modifier, msg_start, len(result))\n",
            "/usr/local/lib/python3.7/dist-packages/sklearn/metrics/_classification.py:1318: UndefinedMetricWarning: Precision and F-score are ill-defined and being set to 0.0 in labels with no predicted samples. Use `zero_division` parameter to control this behavior.\n",
            "  _warn_prf(average, modifier, msg_start, len(result))\n"
          ]
        }
      ],
      "source": [
        "print(classification_report(y_test,y_pred,digits=4))"
      ]
    },
    {
      "cell_type": "code",
      "execution_count": null,
      "metadata": {
        "id": "KBP3mh_EBKY1"
      },
      "outputs": [],
      "source": [
        "from sklearn.pipeline import Pipeline\n",
        "from sklearn.preprocessing import StandardScaler\n",
        "from sklearn.svm import LinearSVC\n",
        "from sklearn.ensemble import RandomForestClassifier\n",
        "from sklearn.linear_model import LogisticRegression\n",
        "from sklearn.neighbors import KNeighborsClassifier\n",
        "from sklearn.naive_bayes import GaussianNB\n",
        "from sklearn.tree import DecisionTreeClassifier\n",
        "\n",
        "#PIPELINE:\n",
        "classifier_names = [\"LogisticRegression\",\"RandomForestClassifier\",\"SupportVector Machine\",\"KNN\",\"Naive Bayes\",\"Decision Tree\"]\n",
        "\n",
        "classifiers = [LogisticRegression(), RandomForestClassifier(), LinearSVC(),KNeighborsClassifier(n_neighbors=4),GaussianNB(),DecisionTreeClassifier()]\n",
        "\n",
        "zipped_clf = dict(zip(classifier_names,classifiers))\n",
        "\n",
        "def classifier(classifier, x_train, y_train):\n",
        "    res = {}\n",
        "    for x,y in classifier.items():\n",
        "        checker_pipeline = Pipeline(steps=[\n",
        "            ('standardize', StandardScaler(with_mean=False)),                         \n",
        "            ('classifier', y)\n",
        "        ])\n",
        "        #print(\"Validation result for {}\".format(n))\n",
        "        model=checker_pipeline.fit(x_train,y_train)\n",
        "        res[x]=model\n",
        "    return res\n"
      ]
    },
    {
      "cell_type": "code",
      "execution_count": null,
      "metadata": {
        "colab": {
          "base_uri": "https://localhost:8080/"
        },
        "id": "4PwyDIfbj_SO",
        "outputId": "78846d80-e7f8-41fa-8d6d-62010213ae51"
      },
      "outputs": [
        {
          "output_type": "stream",
          "name": "stderr",
          "text": [
            "/usr/local/lib/python3.7/dist-packages/sklearn/linear_model/_logistic.py:818: ConvergenceWarning: lbfgs failed to converge (status=1):\n",
            "STOP: TOTAL NO. of ITERATIONS REACHED LIMIT.\n",
            "\n",
            "Increase the number of iterations (max_iter) or scale the data as shown in:\n",
            "    https://scikit-learn.org/stable/modules/preprocessing.html\n",
            "Please also refer to the documentation for alternative solver options:\n",
            "    https://scikit-learn.org/stable/modules/linear_model.html#logistic-regression\n",
            "  extra_warning_msg=_LOGISTIC_SOLVER_CONVERGENCE_MSG,\n",
            "/usr/local/lib/python3.7/dist-packages/sklearn/svm/_base.py:1208: ConvergenceWarning: Liblinear failed to converge, increase the number of iterations.\n",
            "  ConvergenceWarning,\n"
          ]
        }
      ],
      "source": [
        "res = classifier(zipped_clf, x_train, y_train)"
      ]
    },
    {
      "cell_type": "code",
      "execution_count": null,
      "metadata": {
        "colab": {
          "base_uri": "https://localhost:8080/"
        },
        "id": "v4eAzrc6kJ6h",
        "outputId": "d146b19c-5f63-4fd2-9a2c-729ca787b467"
      },
      "outputs": [
        {
          "output_type": "execute_result",
          "data": {
            "text/plain": [
              "{'Decision Tree': Pipeline(steps=[('standardize', StandardScaler(with_mean=False)),\n",
              "                 ('classifier', DecisionTreeClassifier())]),\n",
              " 'KNN': Pipeline(steps=[('standardize', StandardScaler(with_mean=False)),\n",
              "                 ('classifier', KNeighborsClassifier(n_neighbors=4))]),\n",
              " 'LogisticRegression': Pipeline(steps=[('standardize', StandardScaler(with_mean=False)),\n",
              "                 ('classifier', LogisticRegression())]),\n",
              " 'Naive Bayes': Pipeline(steps=[('standardize', StandardScaler(with_mean=False)),\n",
              "                 ('classifier', GaussianNB())]),\n",
              " 'RandomForestClassifier': Pipeline(steps=[('standardize', StandardScaler(with_mean=False)),\n",
              "                 ('classifier', RandomForestClassifier())]),\n",
              " 'SupportVector Machine': Pipeline(steps=[('standardize', StandardScaler(with_mean=False)),\n",
              "                 ('classifier', LinearSVC())])}"
            ]
          },
          "metadata": {},
          "execution_count": 158
        }
      ],
      "source": [
        "res"
      ]
    },
    {
      "cell_type": "code",
      "execution_count": null,
      "metadata": {
        "id": "7fv7sSpRkPkk"
      },
      "outputs": [],
      "source": [
        "lr=res['LogisticRegression']\n",
        "rf=res[\"RandomForestClassifier\"]\n",
        "svm=res[\"SupportVector Machine\"]\n",
        "knn = res[\"KNN\"]\n",
        "nb = res[\"Naive Bayes\"]\n",
        "dt = res[\"Decision Tree\"]"
      ]
    },
    {
      "cell_type": "code",
      "execution_count": null,
      "metadata": {
        "id": "BclCNwZikSje"
      },
      "outputs": [],
      "source": [
        "def results(model,X_train,Y_train,X_test,Y_test):\n",
        "  prediction_train_data = model.predict(X_train)\n",
        "  prediction_test_data = model.predict(X_test)\n",
        "  print(\"Accuracy on training data : \",accuracy_score(Y_train,prediction_train_data))\n",
        "  print(\"Accuracy on testing data : \",accuracy_score(Y_test,prediction_test_data))\n",
        "  print(\"Confusion-matrix : \\n\",confusion_matrix(Y_test,prediction_test_data))\n",
        "  print(\"Classification Report : \\n\",classification_report(Y_test,prediction_test_data,digits=4))\n",
        "  # print(\"CV_mean : \",cross_val_score(model,X,Y,cv = 4).mean())\n",
        "  # print(\"CV_Std : \",cross_val_score(model,X,Y,cv = 4).std())\n"
      ]
    },
    {
      "cell_type": "code",
      "execution_count": null,
      "metadata": {
        "colab": {
          "base_uri": "https://localhost:8080/"
        },
        "id": "sDA6L7QyjekK",
        "outputId": "d4616d68-597f-4313-ea8d-0268b80f011e"
      },
      "outputs": [
        {
          "output_type": "stream",
          "name": "stdout",
          "text": [
            "0.8696463792617639\n"
          ]
        }
      ],
      "source": [
        "print(cross_val_score(model,x_train,y_train,cv = 4).mean())"
      ]
    },
    {
      "cell_type": "code",
      "execution_count": null,
      "metadata": {
        "colab": {
          "base_uri": "https://localhost:8080/"
        },
        "id": "me3oe46Oj_-j",
        "outputId": "c026696f-c541-4186-8a7f-38283194145f"
      },
      "outputs": [
        {
          "name": "stdout",
          "output_type": "stream",
          "text": [
            "0.014377009382503855\n"
          ]
        }
      ],
      "source": [
        "print(cross_val_score(model,x_train,y_train,cv = 4).std())"
      ]
    },
    {
      "cell_type": "code",
      "execution_count": null,
      "metadata": {
        "colab": {
          "base_uri": "https://localhost:8080/",
          "height": 73,
          "resources": {
            "http://localhost:8080/nbextensions/google.colab/files.js": {
              "data": "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",
              "headers": [
                [
                  "content-type",
                  "application/javascript"
                ]
              ],
              "ok": true,
              "status": 200,
              "status_text": ""
            }
          }
        },
        "id": "RQB4vrBh2SUR",
        "outputId": "3e56666d-93b8-4ed6-d513-9ea35fda003e"
      },
      "outputs": [
        {
          "data": {
            "text/html": [
              "\n",
              "     <input type=\"file\" id=\"files-531dde87-a044-4330-aac3-3962018d5199\" name=\"files[]\" multiple disabled\n",
              "        style=\"border:none\" />\n",
              "     <output id=\"result-531dde87-a044-4330-aac3-3962018d5199\">\n",
              "      Upload widget is only available when the cell has been executed in the\n",
              "      current browser session. Please rerun this cell to enable.\n",
              "      </output>\n",
              "      <script src=\"/nbextensions/google.colab/files.js\"></script> "
            ],
            "text/plain": [
              "<IPython.core.display.HTML object>"
            ]
          },
          "metadata": {},
          "output_type": "display_data"
        },
        {
          "name": "stdout",
          "output_type": "stream",
          "text": [
            "Saving 55. Raga Jayant Malhar_22.wav to 55. Raga Jayant Malhar_22.wav\n"
          ]
        }
      ],
      "source": [
        "from google.colab import files\n",
        "uploaded = files.upload()"
      ]
    },
    {
      "cell_type": "code",
      "execution_count": null,
      "metadata": {
        "colab": {
          "base_uri": "https://localhost:8080/",
          "height": 641
        },
        "id": "vgOtNGo_39M2",
        "outputId": "4691d9a2-06a4-46c7-f694-6591094c618e"
      },
      "outputs": [
        {
          "ename": "ParameterError",
          "evalue": "ignored",
          "output_type": "error",
          "traceback": [
            "\u001b[0;31m---------------------------------------------------------------------------\u001b[0m",
            "\u001b[0;31mParameterError\u001b[0m                            Traceback (most recent call last)",
            "\u001b[0;32m<ipython-input-28-828aa7963219>\u001b[0m in \u001b[0;36m<module>\u001b[0;34m()\u001b[0m\n\u001b[0;32m----> 1\u001b[0;31m \u001b[0mextracted\u001b[0m \u001b[0;34m=\u001b[0m \u001b[0mextract_feature\u001b[0m\u001b[0;34m(\u001b[0m\u001b[0;34m\"55. Raga Jayant Malhar_22.wav\"\u001b[0m\u001b[0;34m,\u001b[0m \u001b[0mmfcc\u001b[0m\u001b[0;34m=\u001b[0m\u001b[0;32mTrue\u001b[0m\u001b[0;34m,\u001b[0m \u001b[0mchroma\u001b[0m\u001b[0;34m=\u001b[0m\u001b[0;32mTrue\u001b[0m\u001b[0;34m,\u001b[0m \u001b[0mmel\u001b[0m\u001b[0;34m=\u001b[0m\u001b[0;32mTrue\u001b[0m\u001b[0;34m,\u001b[0m \u001b[0mrms\u001b[0m \u001b[0;34m=\u001b[0m \u001b[0;32mFalse\u001b[0m\u001b[0;34m,\u001b[0m\u001b[0mpoly_f\u001b[0m \u001b[0;34m=\u001b[0m \u001b[0;32mTrue\u001b[0m\u001b[0;34m,\u001b[0m \u001b[0mtonnetz\u001b[0m \u001b[0;34m=\u001b[0m \u001b[0;32mTrue\u001b[0m\u001b[0;34m,\u001b[0m \u001b[0mtempo\u001b[0m \u001b[0;34m=\u001b[0m \u001b[0;32mTrue\u001b[0m\u001b[0;34m,\u001b[0m \u001b[0mspect_cent\u001b[0m \u001b[0;34m=\u001b[0m \u001b[0;32mFalse\u001b[0m\u001b[0;34m,\u001b[0m \u001b[0mspect_flux\u001b[0m \u001b[0;34m=\u001b[0m \u001b[0;32mFalse\u001b[0m\u001b[0;34m,\u001b[0m \u001b[0mspect_roll\u001b[0m \u001b[0;34m=\u001b[0m \u001b[0;32mFalse\u001b[0m\u001b[0;34m,\u001b[0m \u001b[0mzcr\u001b[0m \u001b[0;34m=\u001b[0m \u001b[0;32mFalse\u001b[0m\u001b[0;34m,\u001b[0m\u001b[0mspect_flat\u001b[0m \u001b[0;34m=\u001b[0m \u001b[0;32mFalse\u001b[0m\u001b[0;34m)\u001b[0m\u001b[0;34m\u001b[0m\u001b[0;34m\u001b[0m\u001b[0m\n\u001b[0m\u001b[1;32m      2\u001b[0m \u001b[0mx\u001b[0m \u001b[0;34m=\u001b[0m \u001b[0;34m[\u001b[0m\u001b[0;34m]\u001b[0m\u001b[0;34m\u001b[0m\u001b[0;34m\u001b[0m\u001b[0m\n\u001b[1;32m      3\u001b[0m \u001b[0mx\u001b[0m\u001b[0;34m.\u001b[0m\u001b[0mappend\u001b[0m\u001b[0;34m(\u001b[0m\u001b[0mextracted\u001b[0m\u001b[0;34m)\u001b[0m\u001b[0;34m\u001b[0m\u001b[0;34m\u001b[0m\u001b[0m\n\u001b[1;32m      4\u001b[0m \u001b[0mprediction\u001b[0m \u001b[0;34m=\u001b[0m \u001b[0mmodel\u001b[0m\u001b[0;34m.\u001b[0m\u001b[0mpredict\u001b[0m\u001b[0;34m(\u001b[0m\u001b[0mx\u001b[0m\u001b[0;34m)\u001b[0m\u001b[0;34m\u001b[0m\u001b[0;34m\u001b[0m\u001b[0m\n\u001b[1;32m      5\u001b[0m \u001b[0mprint\u001b[0m\u001b[0;34m(\u001b[0m\u001b[0mprediction\u001b[0m\u001b[0;34m)\u001b[0m\u001b[0;34m\u001b[0m\u001b[0;34m\u001b[0m\u001b[0m\n",
            "\u001b[0;32m<ipython-input-3-5961edca5892>\u001b[0m in \u001b[0;36mextract_feature\u001b[0;34m(file_name, mfcc, chroma, mel, rms, poly_f, tonnetz, tempo, spect_cent, spect_flux, spect_roll, zcr, spect_flat)\u001b[0m\n\u001b[1;32m      5\u001b[0m         \u001b[0msample_rate\u001b[0m\u001b[0;34m=\u001b[0m\u001b[0msound_file\u001b[0m\u001b[0;34m.\u001b[0m\u001b[0msamplerate\u001b[0m\u001b[0;34m\u001b[0m\u001b[0;34m\u001b[0m\u001b[0m\n\u001b[1;32m      6\u001b[0m         \u001b[0;32mif\u001b[0m \u001b[0mchroma\u001b[0m\u001b[0;34m:\u001b[0m\u001b[0;34m\u001b[0m\u001b[0;34m\u001b[0m\u001b[0m\n\u001b[0;32m----> 7\u001b[0;31m             \u001b[0mstft\u001b[0m\u001b[0;34m=\u001b[0m\u001b[0mnp\u001b[0m\u001b[0;34m.\u001b[0m\u001b[0mabs\u001b[0m\u001b[0;34m(\u001b[0m\u001b[0mlibrosa\u001b[0m\u001b[0;34m.\u001b[0m\u001b[0mstft\u001b[0m\u001b[0;34m(\u001b[0m\u001b[0mX\u001b[0m\u001b[0;34m)\u001b[0m\u001b[0;34m)\u001b[0m\u001b[0;34m\u001b[0m\u001b[0;34m\u001b[0m\u001b[0m\n\u001b[0m\u001b[1;32m      8\u001b[0m             \u001b[0mresult\u001b[0m\u001b[0;34m=\u001b[0m\u001b[0mnp\u001b[0m\u001b[0;34m.\u001b[0m\u001b[0marray\u001b[0m\u001b[0;34m(\u001b[0m\u001b[0;34m[\u001b[0m\u001b[0;34m]\u001b[0m\u001b[0;34m)\u001b[0m\u001b[0;34m\u001b[0m\u001b[0;34m\u001b[0m\u001b[0m\n\u001b[1;32m      9\u001b[0m         \u001b[0;32mif\u001b[0m \u001b[0mmfcc\u001b[0m\u001b[0;34m:\u001b[0m\u001b[0;34m\u001b[0m\u001b[0;34m\u001b[0m\u001b[0m\n",
            "\u001b[0;32m/usr/local/lib/python3.7/dist-packages/librosa/core/spectrum.py\u001b[0m in \u001b[0;36mstft\u001b[0;34m(y, n_fft, hop_length, win_length, window, center, dtype, pad_mode)\u001b[0m\n\u001b[1;32m    215\u001b[0m \u001b[0;34m\u001b[0m\u001b[0m\n\u001b[1;32m    216\u001b[0m     \u001b[0;31m# Check audio is valid\u001b[0m\u001b[0;34m\u001b[0m\u001b[0;34m\u001b[0m\u001b[0;34m\u001b[0m\u001b[0m\n\u001b[0;32m--> 217\u001b[0;31m     \u001b[0mutil\u001b[0m\u001b[0;34m.\u001b[0m\u001b[0mvalid_audio\u001b[0m\u001b[0;34m(\u001b[0m\u001b[0my\u001b[0m\u001b[0;34m)\u001b[0m\u001b[0;34m\u001b[0m\u001b[0;34m\u001b[0m\u001b[0m\n\u001b[0m\u001b[1;32m    218\u001b[0m \u001b[0;34m\u001b[0m\u001b[0m\n\u001b[1;32m    219\u001b[0m     \u001b[0;31m# Pad the time series so that frames are centered\u001b[0m\u001b[0;34m\u001b[0m\u001b[0;34m\u001b[0m\u001b[0;34m\u001b[0m\u001b[0m\n",
            "\u001b[0;32m/usr/local/lib/python3.7/dist-packages/librosa/util/utils.py\u001b[0m in \u001b[0;36mvalid_audio\u001b[0;34m(y, mono)\u001b[0m\n\u001b[1;32m    293\u001b[0m         raise ParameterError(\n\u001b[1;32m    294\u001b[0m             \u001b[0;34m\"Invalid shape for monophonic audio: \"\u001b[0m\u001b[0;34m\u001b[0m\u001b[0;34m\u001b[0m\u001b[0m\n\u001b[0;32m--> 295\u001b[0;31m             \u001b[0;34m\"ndim={:d}, shape={}\"\u001b[0m\u001b[0;34m.\u001b[0m\u001b[0mformat\u001b[0m\u001b[0;34m(\u001b[0m\u001b[0my\u001b[0m\u001b[0;34m.\u001b[0m\u001b[0mndim\u001b[0m\u001b[0;34m,\u001b[0m \u001b[0my\u001b[0m\u001b[0;34m.\u001b[0m\u001b[0mshape\u001b[0m\u001b[0;34m)\u001b[0m\u001b[0;34m\u001b[0m\u001b[0;34m\u001b[0m\u001b[0m\n\u001b[0m\u001b[1;32m    296\u001b[0m         )\n\u001b[1;32m    297\u001b[0m \u001b[0;34m\u001b[0m\u001b[0m\n",
            "\u001b[0;31mParameterError\u001b[0m: Invalid shape for monophonic audio: ndim=2, shape=(640000, 2)"
          ]
        }
      ],
      "source": [
        "extracted = extract_feature(\"55. Raga Jayant Malhar_22.wav\", mfcc=True, chroma=True, mel=True, rms = False,poly_f = True, tonnetz = True, tempo = True, spect_cent = False, spect_flux = False, spect_roll = False, zcr = False,spect_flat = False)\n",
        "x = []\n",
        "x.append(extracted)\n",
        "prediction = model.predict(x)\n",
        "print(prediction)"
      ]
    },
    {
      "cell_type": "code",
      "execution_count": null,
      "metadata": {
        "colab": {
          "base_uri": "https://localhost:8080/"
        },
        "id": "9tTSqwFwkbHc",
        "outputId": "f1c86bde-41f5-49e2-804d-8d12e7a576d7"
      },
      "outputs": [
        {
          "output_type": "stream",
          "name": "stdout",
          "text": [
            "---------Logistic regression---------\n",
            "Accuracy on training data :  0.6859259259259259\n",
            "Accuracy on testing data :  0.5798816568047337\n",
            "Confusion-matrix : \n",
            " [[ 3  2  0  0  0  0  0  1  0]\n",
            " [ 1 39  0  0  0  9  2  2  2]\n",
            " [ 0  0  3  0  0  0  0  3  0]\n",
            " [ 1  1  0  5  0  2  4  0  0]\n",
            " [ 2  0  0  0  2  0  0  0  0]\n",
            " [ 0  6  0  0  0 17  1  4  0]\n",
            " [ 2  3  1  2  0  3 12  5  0]\n",
            " [ 3  1  0  1  0  1  6 16  0]\n",
            " [ 0  0  0  0  0  0  0  0  1]]\n",
            "Classification Report : \n",
            "               precision    recall  f1-score   support\n",
            "\n",
            "       angry     0.2500    0.5000    0.3333         6\n",
            "        calm     0.7500    0.7091    0.7290        55\n",
            "     disgust     0.7500    0.5000    0.6000         6\n",
            "      energy     0.6250    0.3846    0.4762        13\n",
            "     fearful     1.0000    0.5000    0.6667         4\n",
            "       happy     0.5312    0.6071    0.5667        28\n",
            "        love     0.4800    0.4286    0.4528        28\n",
            "         sad     0.5161    0.5714    0.5424        28\n",
            "   surprised     0.3333    1.0000    0.5000         1\n",
            "\n",
            "    accuracy                         0.5799       169\n",
            "   macro avg     0.5817    0.5779    0.5408       169\n",
            "weighted avg     0.6064    0.5799    0.5845       169\n",
            "\n"
          ]
        }
      ],
      "source": [
        "print(\"---------Logistic regression---------\")\n",
        "results(lr,x_train,y_train,x_test,y_test)"
      ]
    },
    {
      "cell_type": "code",
      "execution_count": null,
      "metadata": {
        "colab": {
          "base_uri": "https://localhost:8080/"
        },
        "id": "inOTIESYmztm",
        "outputId": "235f06d3-4d4e-446a-bc1a-17e6ec456320"
      },
      "outputs": [
        {
          "output_type": "stream",
          "name": "stdout",
          "text": [
            "---------Random Forest---------\n",
            "Accuracy on training data :  1.0\n",
            "Accuracy on testing data :  0.8579881656804734\n",
            "Confusion-matrix : \n",
            " [[ 6  0  0  0  0  0  0  0  0]\n",
            " [ 0 55  0  0  0  0  0  0  0]\n",
            " [ 0  4  1  0  0  0  0  1  0]\n",
            " [ 0  3  0  6  0  1  3  0  0]\n",
            " [ 0  0  0  0  2  0  0  2  0]\n",
            " [ 0  1  0  0  0 26  1  0  0]\n",
            " [ 0  3  0  0  0  1 24  0  0]\n",
            " [ 0  3  0  0  0  0  0 25  0]\n",
            " [ 0  1  0  0  0  0  0  0  0]]\n",
            "Classification Report : \n",
            "               precision    recall  f1-score   support\n",
            "\n",
            "       angry     1.0000    1.0000    1.0000         6\n",
            "        calm     0.7857    1.0000    0.8800        55\n",
            "     disgust     1.0000    0.1667    0.2857         6\n",
            "      energy     1.0000    0.4615    0.6316        13\n",
            "     fearful     1.0000    0.5000    0.6667         4\n",
            "       happy     0.9286    0.9286    0.9286        28\n",
            "        love     0.8571    0.8571    0.8571        28\n",
            "         sad     0.8929    0.8929    0.8929        28\n",
            "   surprised     0.0000    0.0000    0.0000         1\n",
            "\n",
            "    accuracy                         0.8580       169\n",
            "   macro avg     0.8294    0.6452    0.6825       169\n",
            "weighted avg     0.8711    0.8580    0.8402       169\n",
            "\n"
          ]
        },
        {
          "output_type": "stream",
          "name": "stderr",
          "text": [
            "/usr/local/lib/python3.7/dist-packages/sklearn/metrics/_classification.py:1318: UndefinedMetricWarning: Precision and F-score are ill-defined and being set to 0.0 in labels with no predicted samples. Use `zero_division` parameter to control this behavior.\n",
            "  _warn_prf(average, modifier, msg_start, len(result))\n",
            "/usr/local/lib/python3.7/dist-packages/sklearn/metrics/_classification.py:1318: UndefinedMetricWarning: Precision and F-score are ill-defined and being set to 0.0 in labels with no predicted samples. Use `zero_division` parameter to control this behavior.\n",
            "  _warn_prf(average, modifier, msg_start, len(result))\n",
            "/usr/local/lib/python3.7/dist-packages/sklearn/metrics/_classification.py:1318: UndefinedMetricWarning: Precision and F-score are ill-defined and being set to 0.0 in labels with no predicted samples. Use `zero_division` parameter to control this behavior.\n",
            "  _warn_prf(average, modifier, msg_start, len(result))\n"
          ]
        }
      ],
      "source": [
        "print(\"---------Random Forest---------\")\n",
        "results(rf,x_train,y_train,x_test,y_test)"
      ]
    },
    {
      "cell_type": "code",
      "execution_count": null,
      "metadata": {
        "colab": {
          "base_uri": "https://localhost:8080/"
        },
        "id": "oGljdiPpm8Vm",
        "outputId": "29a6e094-68f2-4e96-a74a-49d157c9ca84"
      },
      "outputs": [
        {
          "output_type": "stream",
          "name": "stdout",
          "text": [
            "---------Support Vector Machine---------\n",
            "Accuracy on training data :  0.674074074074074\n",
            "Accuracy on testing data :  0.5680473372781065\n",
            "Confusion-matrix : \n",
            " [[ 3  2  0  0  0  0  0  1  0]\n",
            " [ 1 35  1  1  1 10  2  3  1]\n",
            " [ 0  0  3  0  0  0  0  3  0]\n",
            " [ 1  1  0  5  0  4  2  0  0]\n",
            " [ 1  0  0  0  2  1  0  0  0]\n",
            " [ 0  6  0  0  0 16  1  5  0]\n",
            " [ 0  3  0  2  1  2 16  4  0]\n",
            " [ 4  0  0  1  0  2  6 15  0]\n",
            " [ 0  0  0  0  0  0  0  0  1]]\n",
            "Classification Report : \n",
            "               precision    recall  f1-score   support\n",
            "\n",
            "       angry     0.3000    0.5000    0.3750         6\n",
            "        calm     0.7447    0.6364    0.6863        55\n",
            "     disgust     0.7500    0.5000    0.6000         6\n",
            "      energy     0.5556    0.3846    0.4545        13\n",
            "     fearful     0.5000    0.5000    0.5000         4\n",
            "       happy     0.4571    0.5714    0.5079        28\n",
            "        love     0.5926    0.5714    0.5818        28\n",
            "         sad     0.4839    0.5357    0.5085        28\n",
            "   surprised     0.5000    1.0000    0.6667         1\n",
            "\n",
            "    accuracy                         0.5680       169\n",
            "   macro avg     0.5426    0.5777    0.5423       169\n",
            "weighted avg     0.5912    0.5680    0.5735       169\n",
            "\n"
          ]
        }
      ],
      "source": [
        "print(\"---------Support Vector Machine---------\")\n",
        "results(svm,x_train,y_train,x_test,y_test)"
      ]
    },
    {
      "cell_type": "code",
      "execution_count": null,
      "metadata": {
        "colab": {
          "base_uri": "https://localhost:8080/"
        },
        "id": "PFHX0D1sQEMA",
        "outputId": "4ace1ef4-fb7b-40cf-867f-0975323d0914"
      },
      "outputs": [
        {
          "output_type": "stream",
          "name": "stdout",
          "text": [
            "---------KNN---------\n",
            "Accuracy on training data :  0.9451851851851852\n",
            "Accuracy on testing data :  0.8698224852071006\n",
            "Confusion-matrix : \n",
            " [[ 6  0  0  0  0  0  0  0  0]\n",
            " [ 0 53  0  0  1  0  0  1  0]\n",
            " [ 0  4  2  0  0  0  0  0  0]\n",
            " [ 1  2  0 10  0  0  0  0  0]\n",
            " [ 3  0  0  0  1  0  0  0  0]\n",
            " [ 0  2  0  0  0 26  0  0  0]\n",
            " [ 0  2  0  0  0  1 25  0  0]\n",
            " [ 1  1  0  0  0  0  3 23  0]\n",
            " [ 0  0  0  0  0  0  0  0  1]]\n",
            "Classification Report : \n",
            "               precision    recall  f1-score   support\n",
            "\n",
            "       angry     0.5455    1.0000    0.7059         6\n",
            "        calm     0.8281    0.9636    0.8908        55\n",
            "     disgust     1.0000    0.3333    0.5000         6\n",
            "      energy     1.0000    0.7692    0.8696        13\n",
            "     fearful     0.5000    0.2500    0.3333         4\n",
            "       happy     0.9630    0.9286    0.9455        28\n",
            "        love     0.8929    0.8929    0.8929        28\n",
            "         sad     0.9583    0.8214    0.8846        28\n",
            "   surprised     1.0000    1.0000    1.0000         1\n",
            "\n",
            "    accuracy                         0.8698       169\n",
            "   macro avg     0.8542    0.7732    0.7803       169\n",
            "weighted avg     0.8853    0.8698    0.8645       169\n",
            "\n"
          ]
        }
      ],
      "source": [
        "print(\"---------KNN---------\")\n",
        "results(knn,x_train,y_train,x_test,y_test)"
      ]
    },
    {
      "cell_type": "code",
      "execution_count": null,
      "metadata": {
        "colab": {
          "base_uri": "https://localhost:8080/"
        },
        "id": "VFX27_hTiAjT",
        "outputId": "328e871f-ddf3-4e6d-ac1a-28fb5a0489b7"
      },
      "outputs": [
        {
          "output_type": "stream",
          "name": "stdout",
          "text": [
            "---------NB---------\n",
            "Accuracy on training data :  0.5733333333333334\n",
            "Accuracy on testing data :  0.47337278106508873\n",
            "Confusion-matrix : \n",
            " [[ 3  1  0  2  0  0  0  0  0]\n",
            " [ 0 29  2  3  0 14  1  5  1]\n",
            " [ 1  1  3  0  0  0  0  1  0]\n",
            " [ 1  0  0  4  0  6  2  0  0]\n",
            " [ 0  0  1  0  2  0  0  1  0]\n",
            " [ 1  4  1  2  0 16  0  4  0]\n",
            " [ 0  0  2  3  0  7 10  6  0]\n",
            " [ 3  4  0  1  0  5  2 13  0]\n",
            " [ 0  1  0  0  0  0  0  0  0]]\n",
            "Classification Report : \n",
            "               precision    recall  f1-score   support\n",
            "\n",
            "       angry     0.3333    0.5000    0.4000         6\n",
            "        calm     0.7250    0.5273    0.6105        55\n",
            "     disgust     0.3333    0.5000    0.4000         6\n",
            "      energy     0.2667    0.3077    0.2857        13\n",
            "     fearful     1.0000    0.5000    0.6667         4\n",
            "       happy     0.3333    0.5714    0.4211        28\n",
            "        love     0.6667    0.3571    0.4651        28\n",
            "         sad     0.4333    0.4643    0.4483        28\n",
            "   surprised     0.0000    0.0000    0.0000         1\n",
            "\n",
            "    accuracy                         0.4734       169\n",
            "   macro avg     0.4546    0.4142    0.4108       169\n",
            "weighted avg     0.5413    0.4734    0.4859       169\n",
            "\n"
          ]
        }
      ],
      "source": [
        "print(\"---------NB---------\")\n",
        "results(nb,x_train,y_train,x_test,y_test)"
      ]
    },
    {
      "cell_type": "code",
      "execution_count": null,
      "metadata": {
        "colab": {
          "base_uri": "https://localhost:8080/"
        },
        "id": "Zq81Kcfai50x",
        "outputId": "75073cf4-b958-4c60-a16f-95acff702ee6"
      },
      "outputs": [
        {
          "output_type": "stream",
          "name": "stdout",
          "text": [
            "---------Decision Tree---------\n",
            "Accuracy on training data :  1.0\n",
            "Accuracy on testing data :  0.650887573964497\n",
            "Confusion-matrix : \n",
            " [[ 4  0  0  0  1  1  0  0  0]\n",
            " [ 0 37  2  1  0  7  3  4  1]\n",
            " [ 0  0  1  0  0  1  4  0  0]\n",
            " [ 1  1  0  5  0  5  0  1  0]\n",
            " [ 0  0  0  0  3  0  0  1  0]\n",
            " [ 0  4  0  1  0 20  1  2  0]\n",
            " [ 0  2  0  1  0  2 16  7  0]\n",
            " [ 0  2  0  1  1  0  1 23  0]\n",
            " [ 0  0  0  0  0  0  0  0  1]]\n",
            "Classification Report : \n",
            "               precision    recall  f1-score   support\n",
            "\n",
            "       angry     0.8000    0.6667    0.7273         6\n",
            "        calm     0.8043    0.6727    0.7327        55\n",
            "     disgust     0.3333    0.1667    0.2222         6\n",
            "      energy     0.5556    0.3846    0.4545        13\n",
            "     fearful     0.6000    0.7500    0.6667         4\n",
            "       happy     0.5556    0.7143    0.6250        28\n",
            "        love     0.6400    0.5714    0.6038        28\n",
            "         sad     0.6053    0.8214    0.6970        28\n",
            "   surprised     0.5000    1.0000    0.6667         1\n",
            "\n",
            "    accuracy                         0.6509       169\n",
            "   macro avg     0.5993    0.6386    0.5995       169\n",
            "weighted avg     0.6603    0.6509    0.6459       169\n",
            "\n"
          ]
        }
      ],
      "source": [
        "print(\"---------Decision Tree---------\")\n",
        "results(dt,x_train,y_train,x_test,y_test)"
      ]
    },
    {
      "cell_type": "code",
      "source": [
        "#y_train \n"
      ],
      "metadata": {
        "id": "JZXAdpnEBzYe"
      },
      "execution_count": null,
      "outputs": []
    },
    {
      "cell_type": "code",
      "source": [
        ""
      ],
      "metadata": {
        "id": "IbqHsJ8P0-3M"
      },
      "execution_count": null,
      "outputs": []
    },
    {
      "cell_type": "code",
      "execution_count": null,
      "metadata": {
        "id": "1Gneis1ZQh-w",
        "colab": {
          "base_uri": "https://localhost:8080/"
        },
        "outputId": "931f226a-1bec-4a9a-99a5-43218b9240ce"
      },
      "outputs": [
        {
          "output_type": "stream",
          "name": "stdout",
          "text": [
            "Model: \"sequential_2\"\n",
            "_________________________________________________________________\n",
            " Layer (type)                Output Shape              Param #   \n",
            "=================================================================\n",
            " dense_4 (Dense)             (None, 128)               5248      \n",
            "                                                                 \n",
            " dropout_2 (Dropout)         (None, 128)               0         \n",
            "                                                                 \n",
            " dense_5 (Dense)             (None, 64)                8256      \n",
            "                                                                 \n",
            " dropout_3 (Dropout)         (None, 64)                0         \n",
            "                                                                 \n",
            " dense_6 (Dense)             (None, 1)                 65        \n",
            "                                                                 \n",
            "=================================================================\n",
            "Total params: 13,569\n",
            "Trainable params: 13,569\n",
            "Non-trainable params: 0\n",
            "_________________________________________________________________\n",
            "None\n"
          ]
        },
        {
          "output_type": "stream",
          "name": "stderr",
          "text": [
            "/usr/local/lib/python3.7/dist-packages/keras/optimizer_v2/adam.py:105: UserWarning: The `lr` argument is deprecated, use `learning_rate` instead.\n",
            "  super(Adam, self).__init__(name, **kwargs)\n"
          ]
        }
      ],
      "source": [
        "from keras.models import Sequential\n",
        "from keras.layers import Dense\n",
        "from tensorflow.keras.optimizers import Adam \n",
        "from keras.layers import Dropout\n",
        "from keras import regularizers\n",
        "\n",
        "# define a function to build the keras model\n",
        "def create_model():\n",
        "    # create model\n",
        "    model = Sequential()\n",
        "    model.add(Dense(128, input_dim=40, kernel_initializer='normal', kernel_regularizer=regularizers.l2(0.001), activation='relu'))\n",
        "    model.add(Dropout(0.25))\n",
        "    model.add(Dense(64, kernel_initializer='normal', kernel_regularizer=regularizers.l2(0.001), activation='relu'))\n",
        "    model.add(Dropout(0.25))\n",
        "    model.add(Dense(1, activation='softmax'))\n",
        "    \n",
        "    # compile model\n",
        "    adam = Adam(lr=0.001)\n",
        "    model.compile(loss='categorical_crossentropy', optimizer='adam', metrics=['accuracy'])\n",
        "    return model\n",
        "\n",
        "model = create_model()\n",
        "\n",
        "print(model.summary())"
      ]
    },
    {
      "cell_type": "code",
      "execution_count": null,
      "metadata": {
        "id": "__fX4rY_Qh8L",
        "colab": {
          "base_uri": "https://localhost:8080/"
        },
        "outputId": "916a3894-efbf-4ecf-8cbe-b500c9e54cf2"
      },
      "outputs": [
        {
          "output_type": "stream",
          "name": "stdout",
          "text": [
            "Epoch 1/100\n",
            "22/22 [==============================] - 1s 13ms/step - loss: 0.0301 - accuracy: 0.0815 - val_loss: 0.0306 - val_accuracy: 0.0769\n",
            "Epoch 2/100\n",
            "22/22 [==============================] - 0s 4ms/step - loss: 0.0341 - accuracy: 0.0815 - val_loss: 0.0400 - val_accuracy: 0.0769\n",
            "Epoch 3/100\n",
            "22/22 [==============================] - 0s 3ms/step - loss: 0.0462 - accuracy: 0.0815 - val_loss: 0.0550 - val_accuracy: 0.0769\n",
            "Epoch 4/100\n",
            "22/22 [==============================] - 0s 3ms/step - loss: 0.0642 - accuracy: 0.0815 - val_loss: 0.0764 - val_accuracy: 0.0769\n",
            "Epoch 5/100\n",
            "22/22 [==============================] - 0s 3ms/step - loss: 0.0871 - accuracy: 0.0815 - val_loss: 0.1000 - val_accuracy: 0.0769\n",
            "Epoch 6/100\n",
            "22/22 [==============================] - 0s 3ms/step - loss: 0.1140 - accuracy: 0.0815 - val_loss: 0.1323 - val_accuracy: 0.0769\n",
            "Epoch 7/100\n",
            "22/22 [==============================] - 0s 3ms/step - loss: 0.1479 - accuracy: 0.0815 - val_loss: 0.1678 - val_accuracy: 0.0769\n",
            "Epoch 8/100\n",
            "22/22 [==============================] - 0s 3ms/step - loss: 0.1859 - accuracy: 0.0815 - val_loss: 0.2083 - val_accuracy: 0.0769\n",
            "Epoch 9/100\n",
            "22/22 [==============================] - 0s 4ms/step - loss: 0.2291 - accuracy: 0.0815 - val_loss: 0.2553 - val_accuracy: 0.0769\n",
            "Epoch 10/100\n",
            "22/22 [==============================] - 0s 3ms/step - loss: 0.2788 - accuracy: 0.0815 - val_loss: 0.3075 - val_accuracy: 0.0769\n",
            "Epoch 11/100\n",
            "22/22 [==============================] - 0s 4ms/step - loss: 0.3333 - accuracy: 0.0815 - val_loss: 0.3642 - val_accuracy: 0.0769\n",
            "Epoch 12/100\n",
            "22/22 [==============================] - 0s 3ms/step - loss: 0.3917 - accuracy: 0.0815 - val_loss: 0.4253 - val_accuracy: 0.0769\n",
            "Epoch 13/100\n",
            "22/22 [==============================] - 0s 4ms/step - loss: 0.4569 - accuracy: 0.0815 - val_loss: 0.4929 - val_accuracy: 0.0769\n",
            "Epoch 14/100\n",
            "22/22 [==============================] - 0s 3ms/step - loss: 0.5275 - accuracy: 0.0815 - val_loss: 0.5680 - val_accuracy: 0.0769\n",
            "Epoch 15/100\n",
            "22/22 [==============================] - 0s 3ms/step - loss: 0.6049 - accuracy: 0.0815 - val_loss: 0.6471 - val_accuracy: 0.0769\n",
            "Epoch 16/100\n",
            "22/22 [==============================] - 0s 4ms/step - loss: 0.6870 - accuracy: 0.0815 - val_loss: 0.7357 - val_accuracy: 0.0769\n",
            "Epoch 17/100\n",
            "22/22 [==============================] - 0s 4ms/step - loss: 0.7763 - accuracy: 0.0815 - val_loss: 0.8242 - val_accuracy: 0.0769\n",
            "Epoch 18/100\n",
            "22/22 [==============================] - 0s 4ms/step - loss: 0.8696 - accuracy: 0.0815 - val_loss: 0.9254 - val_accuracy: 0.0769\n",
            "Epoch 19/100\n",
            "22/22 [==============================] - 0s 4ms/step - loss: 0.9703 - accuracy: 0.0815 - val_loss: 1.0258 - val_accuracy: 0.0769\n",
            "Epoch 20/100\n",
            "22/22 [==============================] - 0s 3ms/step - loss: 1.0759 - accuracy: 0.0815 - val_loss: 1.1381 - val_accuracy: 0.0769\n",
            "Epoch 21/100\n",
            "22/22 [==============================] - 0s 4ms/step - loss: 1.1915 - accuracy: 0.0815 - val_loss: 1.2592 - val_accuracy: 0.0769\n",
            "Epoch 22/100\n",
            "22/22 [==============================] - 0s 4ms/step - loss: 1.3097 - accuracy: 0.0815 - val_loss: 1.3751 - val_accuracy: 0.0769\n",
            "Epoch 23/100\n",
            "22/22 [==============================] - 0s 4ms/step - loss: 1.4307 - accuracy: 0.0815 - val_loss: 1.4971 - val_accuracy: 0.0769\n",
            "Epoch 24/100\n",
            "22/22 [==============================] - 0s 4ms/step - loss: 1.5577 - accuracy: 0.0815 - val_loss: 1.6313 - val_accuracy: 0.0769\n",
            "Epoch 25/100\n",
            "22/22 [==============================] - 0s 3ms/step - loss: 1.6946 - accuracy: 0.0815 - val_loss: 1.7752 - val_accuracy: 0.0769\n",
            "Epoch 26/100\n",
            "22/22 [==============================] - 0s 4ms/step - loss: 1.8380 - accuracy: 0.0815 - val_loss: 1.9190 - val_accuracy: 0.0769\n",
            "Epoch 27/100\n",
            "22/22 [==============================] - 0s 4ms/step - loss: 1.9846 - accuracy: 0.0815 - val_loss: 2.0633 - val_accuracy: 0.0769\n",
            "Epoch 28/100\n",
            "22/22 [==============================] - 0s 4ms/step - loss: 2.1355 - accuracy: 0.0815 - val_loss: 2.2211 - val_accuracy: 0.0769\n",
            "Epoch 29/100\n",
            "22/22 [==============================] - 0s 3ms/step - loss: 2.2989 - accuracy: 0.0815 - val_loss: 2.3882 - val_accuracy: 0.0769\n",
            "Epoch 30/100\n",
            "22/22 [==============================] - 0s 3ms/step - loss: 2.4682 - accuracy: 0.0815 - val_loss: 2.5603 - val_accuracy: 0.0769\n",
            "Epoch 31/100\n",
            "22/22 [==============================] - 0s 3ms/step - loss: 2.6426 - accuracy: 0.0815 - val_loss: 2.7364 - val_accuracy: 0.0769\n",
            "Epoch 32/100\n",
            "22/22 [==============================] - 0s 3ms/step - loss: 2.8250 - accuracy: 0.0815 - val_loss: 2.9199 - val_accuracy: 0.0769\n",
            "Epoch 33/100\n",
            "22/22 [==============================] - 0s 4ms/step - loss: 3.0100 - accuracy: 0.0815 - val_loss: 3.1140 - val_accuracy: 0.0769\n",
            "Epoch 34/100\n",
            "22/22 [==============================] - 0s 3ms/step - loss: 3.2023 - accuracy: 0.0815 - val_loss: 3.3069 - val_accuracy: 0.0769\n",
            "Epoch 35/100\n",
            "22/22 [==============================] - 0s 3ms/step - loss: 3.4036 - accuracy: 0.0815 - val_loss: 3.5097 - val_accuracy: 0.0769\n",
            "Epoch 36/100\n",
            "22/22 [==============================] - 0s 3ms/step - loss: 3.6106 - accuracy: 0.0815 - val_loss: 3.7261 - val_accuracy: 0.0769\n",
            "Epoch 37/100\n",
            "22/22 [==============================] - 0s 4ms/step - loss: 3.8261 - accuracy: 0.0815 - val_loss: 3.9440 - val_accuracy: 0.0769\n",
            "Epoch 38/100\n",
            "22/22 [==============================] - 0s 3ms/step - loss: 4.0482 - accuracy: 0.0815 - val_loss: 4.1682 - val_accuracy: 0.0769\n",
            "Epoch 39/100\n",
            "22/22 [==============================] - 0s 4ms/step - loss: 4.2740 - accuracy: 0.0815 - val_loss: 4.4066 - val_accuracy: 0.0769\n",
            "Epoch 40/100\n",
            "22/22 [==============================] - 0s 3ms/step - loss: 4.5134 - accuracy: 0.0815 - val_loss: 4.6335 - val_accuracy: 0.0769\n",
            "Epoch 41/100\n",
            "22/22 [==============================] - 0s 4ms/step - loss: 4.7460 - accuracy: 0.0815 - val_loss: 4.8853 - val_accuracy: 0.0769\n",
            "Epoch 42/100\n",
            "22/22 [==============================] - 0s 3ms/step - loss: 4.9926 - accuracy: 0.0815 - val_loss: 5.1143 - val_accuracy: 0.0769\n",
            "Epoch 43/100\n",
            "22/22 [==============================] - 0s 3ms/step - loss: 5.2350 - accuracy: 0.0815 - val_loss: 5.3827 - val_accuracy: 0.0769\n",
            "Epoch 44/100\n",
            "22/22 [==============================] - 0s 4ms/step - loss: 5.4956 - accuracy: 0.0815 - val_loss: 5.6361 - val_accuracy: 0.0769\n",
            "Epoch 45/100\n",
            "22/22 [==============================] - 0s 4ms/step - loss: 5.7582 - accuracy: 0.0815 - val_loss: 5.9069 - val_accuracy: 0.0769\n",
            "Epoch 46/100\n",
            "22/22 [==============================] - 0s 4ms/step - loss: 6.0310 - accuracy: 0.0815 - val_loss: 6.1943 - val_accuracy: 0.0769\n",
            "Epoch 47/100\n",
            "22/22 [==============================] - 0s 3ms/step - loss: 6.3029 - accuracy: 0.0815 - val_loss: 6.4403 - val_accuracy: 0.0769\n",
            "Epoch 48/100\n",
            "22/22 [==============================] - 0s 3ms/step - loss: 6.5710 - accuracy: 0.0815 - val_loss: 6.7228 - val_accuracy: 0.0769\n",
            "Epoch 49/100\n",
            "22/22 [==============================] - 0s 3ms/step - loss: 6.8537 - accuracy: 0.0815 - val_loss: 7.0132 - val_accuracy: 0.0769\n",
            "Epoch 50/100\n",
            "22/22 [==============================] - 0s 3ms/step - loss: 7.1533 - accuracy: 0.0815 - val_loss: 7.3126 - val_accuracy: 0.0769\n",
            "Epoch 51/100\n",
            "22/22 [==============================] - 0s 3ms/step - loss: 7.4548 - accuracy: 0.0815 - val_loss: 7.6307 - val_accuracy: 0.0769\n",
            "Epoch 52/100\n",
            "22/22 [==============================] - 0s 4ms/step - loss: 7.7720 - accuracy: 0.0815 - val_loss: 7.9339 - val_accuracy: 0.0769\n",
            "Epoch 53/100\n",
            "22/22 [==============================] - 0s 4ms/step - loss: 8.0842 - accuracy: 0.0815 - val_loss: 8.2596 - val_accuracy: 0.0769\n",
            "Epoch 54/100\n",
            "22/22 [==============================] - 0s 4ms/step - loss: 8.4152 - accuracy: 0.0815 - val_loss: 8.5897 - val_accuracy: 0.0769\n",
            "Epoch 55/100\n",
            "22/22 [==============================] - 0s 3ms/step - loss: 8.7362 - accuracy: 0.0815 - val_loss: 8.9252 - val_accuracy: 0.0769\n",
            "Epoch 56/100\n",
            "22/22 [==============================] - 0s 3ms/step - loss: 9.0700 - accuracy: 0.0815 - val_loss: 9.2448 - val_accuracy: 0.0769\n",
            "Epoch 57/100\n",
            "22/22 [==============================] - 0s 3ms/step - loss: 9.4049 - accuracy: 0.0815 - val_loss: 9.5962 - val_accuracy: 0.0769\n",
            "Epoch 58/100\n",
            "22/22 [==============================] - 0s 4ms/step - loss: 9.7567 - accuracy: 0.0815 - val_loss: 9.9507 - val_accuracy: 0.0769\n",
            "Epoch 59/100\n",
            "22/22 [==============================] - 0s 3ms/step - loss: 10.1100 - accuracy: 0.0815 - val_loss: 10.3036 - val_accuracy: 0.0769\n",
            "Epoch 60/100\n",
            "22/22 [==============================] - 0s 4ms/step - loss: 10.4646 - accuracy: 0.0815 - val_loss: 10.6656 - val_accuracy: 0.0769\n",
            "Epoch 61/100\n",
            "22/22 [==============================] - 0s 3ms/step - loss: 10.8246 - accuracy: 0.0815 - val_loss: 11.0240 - val_accuracy: 0.0769\n",
            "Epoch 62/100\n",
            "22/22 [==============================] - 0s 4ms/step - loss: 11.1923 - accuracy: 0.0815 - val_loss: 11.4057 - val_accuracy: 0.0769\n",
            "Epoch 63/100\n",
            "22/22 [==============================] - 0s 3ms/step - loss: 11.5766 - accuracy: 0.0815 - val_loss: 11.7970 - val_accuracy: 0.0769\n",
            "Epoch 64/100\n",
            "22/22 [==============================] - 0s 3ms/step - loss: 11.9705 - accuracy: 0.0815 - val_loss: 12.1728 - val_accuracy: 0.0769\n",
            "Epoch 65/100\n",
            "22/22 [==============================] - 0s 3ms/step - loss: 12.3515 - accuracy: 0.0815 - val_loss: 12.5507 - val_accuracy: 0.0769\n",
            "Epoch 66/100\n",
            "22/22 [==============================] - 0s 3ms/step - loss: 12.7430 - accuracy: 0.0815 - val_loss: 12.9703 - val_accuracy: 0.0769\n",
            "Epoch 67/100\n",
            "22/22 [==============================] - 0s 4ms/step - loss: 13.1548 - accuracy: 0.0815 - val_loss: 13.3761 - val_accuracy: 0.0769\n",
            "Epoch 68/100\n",
            "22/22 [==============================] - 0s 3ms/step - loss: 13.5508 - accuracy: 0.0815 - val_loss: 13.7753 - val_accuracy: 0.0769\n",
            "Epoch 69/100\n",
            "22/22 [==============================] - 0s 4ms/step - loss: 13.9570 - accuracy: 0.0815 - val_loss: 14.1810 - val_accuracy: 0.0769\n",
            "Epoch 70/100\n",
            "22/22 [==============================] - 0s 3ms/step - loss: 14.3598 - accuracy: 0.0815 - val_loss: 14.5864 - val_accuracy: 0.0769\n",
            "Epoch 71/100\n",
            "22/22 [==============================] - 0s 3ms/step - loss: 14.7829 - accuracy: 0.0815 - val_loss: 15.0082 - val_accuracy: 0.0769\n",
            "Epoch 72/100\n",
            "22/22 [==============================] - 0s 4ms/step - loss: 15.2167 - accuracy: 0.0815 - val_loss: 15.4600 - val_accuracy: 0.0769\n",
            "Epoch 73/100\n",
            "22/22 [==============================] - 0s 3ms/step - loss: 15.6591 - accuracy: 0.0815 - val_loss: 15.9023 - val_accuracy: 0.0769\n",
            "Epoch 74/100\n",
            "22/22 [==============================] - 0s 3ms/step - loss: 16.1126 - accuracy: 0.0815 - val_loss: 16.3636 - val_accuracy: 0.0769\n",
            "Epoch 75/100\n",
            "22/22 [==============================] - 0s 4ms/step - loss: 16.5614 - accuracy: 0.0815 - val_loss: 16.8074 - val_accuracy: 0.0769\n",
            "Epoch 76/100\n",
            "22/22 [==============================] - 0s 4ms/step - loss: 17.0138 - accuracy: 0.0815 - val_loss: 17.2684 - val_accuracy: 0.0769\n",
            "Epoch 77/100\n",
            "22/22 [==============================] - 0s 4ms/step - loss: 17.4806 - accuracy: 0.0815 - val_loss: 17.7487 - val_accuracy: 0.0769\n",
            "Epoch 78/100\n",
            "22/22 [==============================] - 0s 3ms/step - loss: 17.9649 - accuracy: 0.0815 - val_loss: 18.2324 - val_accuracy: 0.0769\n",
            "Epoch 79/100\n",
            "22/22 [==============================] - 0s 4ms/step - loss: 18.4536 - accuracy: 0.0815 - val_loss: 18.7230 - val_accuracy: 0.0769\n",
            "Epoch 80/100\n",
            "22/22 [==============================] - 0s 4ms/step - loss: 18.9461 - accuracy: 0.0815 - val_loss: 19.1945 - val_accuracy: 0.0769\n",
            "Epoch 81/100\n",
            "22/22 [==============================] - 0s 4ms/step - loss: 19.4359 - accuracy: 0.0815 - val_loss: 19.7105 - val_accuracy: 0.0769\n",
            "Epoch 82/100\n",
            "22/22 [==============================] - 0s 4ms/step - loss: 19.9460 - accuracy: 0.0815 - val_loss: 20.2169 - val_accuracy: 0.0769\n",
            "Epoch 83/100\n",
            "22/22 [==============================] - 0s 4ms/step - loss: 20.4518 - accuracy: 0.0815 - val_loss: 20.7225 - val_accuracy: 0.0769\n",
            "Epoch 84/100\n",
            "22/22 [==============================] - 0s 3ms/step - loss: 20.9642 - accuracy: 0.0815 - val_loss: 21.2545 - val_accuracy: 0.0769\n",
            "Epoch 85/100\n",
            "22/22 [==============================] - 0s 3ms/step - loss: 21.4990 - accuracy: 0.0815 - val_loss: 21.7892 - val_accuracy: 0.0769\n",
            "Epoch 86/100\n",
            "22/22 [==============================] - 0s 4ms/step - loss: 22.0219 - accuracy: 0.0815 - val_loss: 22.3019 - val_accuracy: 0.0769\n",
            "Epoch 87/100\n",
            "22/22 [==============================] - 0s 3ms/step - loss: 22.5511 - accuracy: 0.0815 - val_loss: 22.8478 - val_accuracy: 0.0769\n",
            "Epoch 88/100\n",
            "22/22 [==============================] - 0s 4ms/step - loss: 23.0891 - accuracy: 0.0815 - val_loss: 23.3934 - val_accuracy: 0.0769\n",
            "Epoch 89/100\n",
            "22/22 [==============================] - 0s 3ms/step - loss: 23.6480 - accuracy: 0.0815 - val_loss: 23.9359 - val_accuracy: 0.0769\n",
            "Epoch 90/100\n",
            "22/22 [==============================] - 0s 4ms/step - loss: 24.1994 - accuracy: 0.0815 - val_loss: 24.5118 - val_accuracy: 0.0769\n",
            "Epoch 91/100\n",
            "22/22 [==============================] - 0s 4ms/step - loss: 24.7701 - accuracy: 0.0815 - val_loss: 25.0706 - val_accuracy: 0.0769\n",
            "Epoch 92/100\n",
            "22/22 [==============================] - 0s 4ms/step - loss: 25.3272 - accuracy: 0.0815 - val_loss: 25.6333 - val_accuracy: 0.0769\n",
            "Epoch 93/100\n",
            "22/22 [==============================] - 0s 3ms/step - loss: 25.9050 - accuracy: 0.0815 - val_loss: 26.2210 - val_accuracy: 0.0769\n",
            "Epoch 94/100\n",
            "22/22 [==============================] - 0s 3ms/step - loss: 26.4943 - accuracy: 0.0815 - val_loss: 26.8176 - val_accuracy: 0.0769\n",
            "Epoch 95/100\n",
            "22/22 [==============================] - 0s 3ms/step - loss: 27.0902 - accuracy: 0.0815 - val_loss: 27.4046 - val_accuracy: 0.0769\n",
            "Epoch 96/100\n",
            "22/22 [==============================] - 0s 4ms/step - loss: 27.6871 - accuracy: 0.0815 - val_loss: 27.9986 - val_accuracy: 0.0769\n",
            "Epoch 97/100\n",
            "22/22 [==============================] - 0s 3ms/step - loss: 28.2847 - accuracy: 0.0815 - val_loss: 28.6413 - val_accuracy: 0.0769\n",
            "Epoch 98/100\n",
            "22/22 [==============================] - 0s 3ms/step - loss: 28.9018 - accuracy: 0.0815 - val_loss: 29.2176 - val_accuracy: 0.0769\n",
            "Epoch 99/100\n",
            "22/22 [==============================] - 0s 4ms/step - loss: 29.4884 - accuracy: 0.0815 - val_loss: 29.8081 - val_accuracy: 0.0769\n",
            "Epoch 100/100\n",
            "22/22 [==============================] - 0s 4ms/step - loss: 30.1018 - accuracy: 0.0815 - val_loss: 30.4244 - val_accuracy: 0.0769\n"
          ]
        }
      ],
      "source": [
        "# fit the model to the training data\n",
        "history=model.fit(np.array(x_train),np.array(y_train), validation_data=(np.array(x_test), np.array(y_test)),epochs=100, batch_size=32)"
      ]
    },
    {
      "cell_type": "code",
      "source": [
        "from keras.models import Sequential\n",
        "from keras.layers import Dense, SimpleRNN"
      ],
      "metadata": {
        "id": "h5PS44zpKdqc"
      },
      "execution_count": null,
      "outputs": []
    },
    {
      "cell_type": "code",
      "source": [
        "def create_RNN(hidden_units, dense_units, input_shape, activation):\n",
        "    model = Sequential()\n",
        "    model.add(SimpleRNN(hidden_units, input_shape=input_shape, activation=activation[0]))\n",
        "    model.add(Dense(units=dense_units, activation=activation[1]))\n",
        "    model.compile(loss='mean_squared_error', optimizer='adam', metrics=['accuracy'])\n",
        "    return model"
      ],
      "metadata": {
        "id": "UtIrV-4MKKsA"
      },
      "execution_count": null,
      "outputs": []
    },
    {
      "cell_type": "code",
      "source": [
        "model = create_RNN(hidden_units=3, dense_units=1, input_shape=(40,1), \n",
        "                   activation=['tanh', 'tanh'])\n",
        "model.fit(np.array(x_train), np.array(y_train),validation_data=(np.array(x_test), np.array(y_test)),epochs=20, batch_size=1,verbose = 2)"
      ],
      "metadata": {
        "colab": {
          "base_uri": "https://localhost:8080/"
        },
        "id": "DUkRYEYzKTl5",
        "outputId": "0633764e-2597-4cf4-bb9e-94fe821aa1f4"
      },
      "execution_count": null,
      "outputs": [
        {
          "output_type": "stream",
          "name": "stdout",
          "text": [
            "Epoch 1/20\n",
            "675/675 - 8s - loss: 17.8354 - accuracy: 0.0726 - val_loss: 16.2886 - val_accuracy: 0.0769 - 8s/epoch - 12ms/step\n",
            "Epoch 2/20\n",
            "675/675 - 4s - loss: 15.9539 - accuracy: 0.0815 - val_loss: 15.9599 - val_accuracy: 0.0769 - 4s/epoch - 6ms/step\n",
            "Epoch 3/20\n",
            "675/675 - 4s - loss: 15.7727 - accuracy: 0.0815 - val_loss: 15.8791 - val_accuracy: 0.0769 - 4s/epoch - 5ms/step\n",
            "Epoch 4/20\n",
            "675/675 - 4s - loss: 15.7184 - accuracy: 0.0815 - val_loss: 15.8471 - val_accuracy: 0.0769 - 4s/epoch - 5ms/step\n",
            "Epoch 5/20\n",
            "675/675 - 4s - loss: 15.6947 - accuracy: 0.0815 - val_loss: 15.8322 - val_accuracy: 0.0769 - 4s/epoch - 6ms/step\n",
            "Epoch 6/20\n",
            "675/675 - 5s - loss: 15.6830 - accuracy: 0.0815 - val_loss: 15.8243 - val_accuracy: 0.0769 - 5s/epoch - 7ms/step\n",
            "Epoch 7/20\n",
            "675/675 - 5s - loss: 15.6767 - accuracy: 0.0815 - val_loss: 15.8198 - val_accuracy: 0.0769 - 5s/epoch - 7ms/step\n",
            "Epoch 8/20\n",
            "675/675 - 4s - loss: 15.6730 - accuracy: 0.0815 - val_loss: 15.8170 - val_accuracy: 0.0769 - 4s/epoch - 5ms/step\n",
            "Epoch 9/20\n",
            "675/675 - 3s - loss: 15.6706 - accuracy: 0.0815 - val_loss: 15.8151 - val_accuracy: 0.0769 - 3s/epoch - 5ms/step\n",
            "Epoch 10/20\n",
            "675/675 - 4s - loss: 15.6690 - accuracy: 0.0815 - val_loss: 15.8139 - val_accuracy: 0.0769 - 4s/epoch - 5ms/step\n",
            "Epoch 11/20\n",
            "675/675 - 3s - loss: 15.6680 - accuracy: 0.0815 - val_loss: 15.8130 - val_accuracy: 0.0769 - 3s/epoch - 5ms/step\n",
            "Epoch 12/20\n",
            "675/675 - 4s - loss: 15.6672 - accuracy: 0.0815 - val_loss: 15.8123 - val_accuracy: 0.0769 - 4s/epoch - 6ms/step\n",
            "Epoch 13/20\n",
            "675/675 - 4s - loss: 15.6666 - accuracy: 0.0815 - val_loss: 15.8119 - val_accuracy: 0.0769 - 4s/epoch - 6ms/step\n",
            "Epoch 14/20\n",
            "675/675 - 4s - loss: 15.6662 - accuracy: 0.0815 - val_loss: 15.8115 - val_accuracy: 0.0769 - 4s/epoch - 6ms/step\n",
            "Epoch 15/20\n",
            "675/675 - 4s - loss: 15.6659 - accuracy: 0.0815 - val_loss: 15.8113 - val_accuracy: 0.0769 - 4s/epoch - 5ms/step\n",
            "Epoch 16/20\n",
            "675/675 - 4s - loss: 15.6657 - accuracy: 0.0815 - val_loss: 15.8111 - val_accuracy: 0.0769 - 4s/epoch - 6ms/step\n",
            "Epoch 17/20\n",
            "675/675 - 4s - loss: 15.6655 - accuracy: 0.0815 - val_loss: 15.8110 - val_accuracy: 0.0769 - 4s/epoch - 5ms/step\n",
            "Epoch 18/20\n",
            "675/675 - 3s - loss: 15.6654 - accuracy: 0.0815 - val_loss: 15.8109 - val_accuracy: 0.0769 - 3s/epoch - 5ms/step\n",
            "Epoch 19/20\n",
            "675/675 - 4s - loss: 15.6653 - accuracy: 0.0815 - val_loss: 15.8108 - val_accuracy: 0.0769 - 4s/epoch - 5ms/step\n",
            "Epoch 20/20\n",
            "675/675 - 4s - loss: 15.6653 - accuracy: 0.0815 - val_loss: 15.8108 - val_accuracy: 0.0769 - 4s/epoch - 6ms/step\n"
          ]
        },
        {
          "output_type": "execute_result",
          "data": {
            "text/plain": [
              "<keras.callbacks.History at 0x7f63f8cf6510>"
            ]
          },
          "metadata": {},
          "execution_count": 60
        }
      ]
    }
  ],
  "metadata": {
    "colab": {
      "collapsed_sections": [],
      "name": "Dwdm mini project.ipynb",
      "provenance": []
    },
    "kernelspec": {
      "display_name": "Python 3",
      "name": "python3"
    },
    "language_info": {
      "name": "python"
    }
  },
  "nbformat": 4,
  "nbformat_minor": 0
}